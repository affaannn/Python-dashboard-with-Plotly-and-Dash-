{
 "cells": [
  {
   "cell_type": "markdown",
   "id": "4aebe003",
   "metadata": {},
   "source": [
    "# DASH"
   ]
  },
  {
   "cell_type": "code",
   "execution_count": 1,
   "id": "62224e46",
   "metadata": {},
   "outputs": [
    {
     "name": "stdout",
     "output_type": "stream",
     "text": [
      "Requirement already satisfied: dash in c:\\users\\admin\\anaconda3\\lib\\site-packages (2.7.0)\n",
      "Requirement already satisfied: dash-table==5.0.0 in c:\\users\\admin\\anaconda3\\lib\\site-packages (from dash) (5.0.0)\n",
      "Requirement already satisfied: dash-core-components==2.0.0 in c:\\users\\admin\\anaconda3\\lib\\site-packages (from dash) (2.0.0)\n",
      "Requirement already satisfied: dash-html-components==2.0.0 in c:\\users\\admin\\anaconda3\\lib\\site-packages (from dash) (2.0.0)\n",
      "Requirement already satisfied: Flask>=1.0.4 in c:\\users\\admin\\anaconda3\\lib\\site-packages (from dash) (1.1.2)\n",
      "Requirement already satisfied: plotly>=5.0.0 in c:\\users\\admin\\anaconda3\\lib\\site-packages (from dash) (5.6.0)\n",
      "Requirement already satisfied: click>=5.1 in c:\\users\\admin\\anaconda3\\lib\\site-packages (from Flask>=1.0.4->dash) (8.0.4)\n",
      "Requirement already satisfied: Jinja2>=2.10.1 in c:\\users\\admin\\anaconda3\\lib\\site-packages (from Flask>=1.0.4->dash) (2.11.3)\n",
      "Requirement already satisfied: Werkzeug>=0.15 in c:\\users\\admin\\anaconda3\\lib\\site-packages (from Flask>=1.0.4->dash) (2.0.3)\n",
      "Requirement already satisfied: itsdangerous>=0.24 in c:\\users\\admin\\anaconda3\\lib\\site-packages (from Flask>=1.0.4->dash) (2.0.1)\n",
      "Requirement already satisfied: colorama in c:\\users\\admin\\anaconda3\\lib\\site-packages (from click>=5.1->Flask>=1.0.4->dash) (0.4.4)\n",
      "Requirement already satisfied: MarkupSafe>=0.23 in c:\\users\\admin\\anaconda3\\lib\\site-packages (from Jinja2>=2.10.1->Flask>=1.0.4->dash) (2.0.1)\n",
      "Requirement already satisfied: tenacity>=6.2.0 in c:\\users\\admin\\anaconda3\\lib\\site-packages (from plotly>=5.0.0->dash) (8.0.1)\n",
      "Requirement already satisfied: six in c:\\users\\admin\\anaconda3\\lib\\site-packages (from plotly>=5.0.0->dash) (1.16.0)\n"
     ]
    }
   ],
   "source": [
    "!pip install dash\n"
   ]
  },
  {
   "cell_type": "code",
   "execution_count": null,
   "id": "24808df4",
   "metadata": {},
   "outputs": [],
   "source": [
    "import dash\n",
    "import dash_core_components as dcc\n",
    "import dash_html_components as dhc\n",
    "import plotly.graph_objs as pgo\n",
    "import numpy as np\n",
    "import pandas as pd"
   ]
  },
  {
   "cell_type": "code",
   "execution_count": null,
   "id": "8a1db85e",
   "metadata": {},
   "outputs": [
    {
     "name": "stdout",
     "output_type": "stream",
     "text": [
      "Dash is running on http://127.0.0.1:8050/\n",
      "\n",
      " * Serving Flask app \"__main__\" (lazy loading)\n",
      " * Environment: production\n",
      "\u001b[31m   WARNING: This is a development server. Do not use it in a production deployment.\u001b[0m\n",
      "\u001b[2m   Use a production WSGI server instead.\u001b[0m\n",
      " * Debug mode: off\n"
     ]
    },
    {
     "name": "stderr",
     "output_type": "stream",
     "text": [
      " * Running on http://127.0.0.1:8050/ (Press CTRL+C to quit)\n",
      "127.0.0.1 - - [18/Nov/2022 21:28:41] \"GET / HTTP/1.1\" 200 -\n",
      "127.0.0.1 - - [18/Nov/2022 21:28:43] \"GET /_dash-component-suites/dash/deps/polyfill@7.v2_7_0m1668102265.12.1.min.js HTTP/1.1\" 200 -\n",
      "127.0.0.1 - - [18/Nov/2022 21:28:43] \"GET /_dash-component-suites/dash/deps/react@16.v2_7_0m1668102265.14.0.min.js HTTP/1.1\" 200 -\n",
      "127.0.0.1 - - [18/Nov/2022 21:28:43] \"GET /_dash-component-suites/dash/deps/react-dom@16.v2_7_0m1668102265.14.0.min.js HTTP/1.1\" 200 -\n",
      "127.0.0.1 - - [18/Nov/2022 21:28:43] \"GET /_dash-component-suites/dash/deps/prop-types@15.v2_7_0m1668102265.8.1.min.js HTTP/1.1\" 200 -\n",
      "127.0.0.1 - - [18/Nov/2022 21:28:43] \"GET /_dash-component-suites/dash/dash-renderer/build/dash_renderer.v2_7_0m1668102264.min.js HTTP/1.1\" 200 -\n",
      "127.0.0.1 - - [18/Nov/2022 21:28:43] \"GET /_dash-component-suites/dash/dcc/dash_core_components.v2_7_0m1668102264.js HTTP/1.1\" 200 -\n",
      "127.0.0.1 - - [18/Nov/2022 21:28:44] \"GET /_dash-component-suites/dash/dcc/dash_core_components-shared.v2_7_0m1668102264.js HTTP/1.1\" 200 -\n",
      "127.0.0.1 - - [18/Nov/2022 21:28:44] \"GET /_dash-component-suites/dash/html/dash_html_components.v2_0_6m1668102265.min.js HTTP/1.1\" 200 -\n",
      "127.0.0.1 - - [18/Nov/2022 21:28:44] \"GET /_dash-component-suites/dash/dash_table/bundle.v5_2_0m1668102264.js HTTP/1.1\" 200 -\n",
      "127.0.0.1 - - [18/Nov/2022 21:28:44] \"GET /_dash-layout HTTP/1.1\" 200 -\n",
      "127.0.0.1 - - [18/Nov/2022 21:28:44] \"GET /_dash-dependencies HTTP/1.1\" 200 -\n",
      "127.0.0.1 - - [18/Nov/2022 21:28:45] \"GET /_dash-component-suites/dash/dcc/async-plotlyjs.js HTTP/1.1\" 200 -\n",
      "127.0.0.1 - - [18/Nov/2022 21:28:45] \"GET /_dash-component-suites/dash/dcc/async-graph.js HTTP/1.1\" 200 -\n",
      "127.0.0.1 - - [18/Nov/2022 21:53:57] \"GET / HTTP/1.1\" 200 -\n",
      "127.0.0.1 - - [18/Nov/2022 21:53:59] \"GET /_dash-layout HTTP/1.1\" 200 -\n",
      "127.0.0.1 - - [18/Nov/2022 21:53:59] \"GET /_dash-dependencies HTTP/1.1\" 200 -\n",
      "127.0.0.1 - - [18/Nov/2022 21:53:59] \"GET /_dash-component-suites/dash/dcc/async-graph.js HTTP/1.1\" 200 -\n",
      "127.0.0.1 - - [18/Nov/2022 21:53:59] \"GET /_dash-component-suites/dash/dcc/async-plotlyjs.js HTTP/1.1\" 200 -\n",
      "127.0.0.1 - - [18/Nov/2022 21:55:59] \"GET / HTTP/1.1\" 200 -\n",
      "127.0.0.1 - - [18/Nov/2022 21:56:00] \"GET /_dash-layout HTTP/1.1\" 200 -\n",
      "127.0.0.1 - - [18/Nov/2022 21:56:00] \"GET /_dash-dependencies HTTP/1.1\" 200 -\n",
      "127.0.0.1 - - [18/Nov/2022 21:56:00] \"GET /_dash-component-suites/dash/dcc/async-graph.js HTTP/1.1\" 200 -\n",
      "127.0.0.1 - - [18/Nov/2022 21:56:00] \"GET /_dash-component-suites/dash/dcc/async-plotlyjs.js HTTP/1.1\" 200 -\n",
      "127.0.0.1 - - [18/Nov/2022 21:57:38] \"GET / HTTP/1.1\" 200 -\n",
      "127.0.0.1 - - [18/Nov/2022 21:57:39] \"GET /_dash-layout HTTP/1.1\" 200 -\n",
      "127.0.0.1 - - [18/Nov/2022 21:57:39] \"GET /_dash-dependencies HTTP/1.1\" 200 -\n",
      "127.0.0.1 - - [18/Nov/2022 21:57:39] \"GET /_dash-component-suites/dash/dcc/async-graph.js HTTP/1.1\" 200 -\n",
      "127.0.0.1 - - [18/Nov/2022 21:57:39] \"GET /_dash-component-suites/dash/dcc/async-plotlyjs.js HTTP/1.1\" 200 -\n",
      "127.0.0.1 - - [18/Nov/2022 21:57:51] \"GET / HTTP/1.1\" 200 -\n",
      "127.0.0.1 - - [18/Nov/2022 21:57:52] \"GET /_dash-layout HTTP/1.1\" 200 -\n",
      "127.0.0.1 - - [18/Nov/2022 21:57:52] \"GET /_dash-dependencies HTTP/1.1\" 200 -\n",
      "127.0.0.1 - - [18/Nov/2022 21:57:52] \"GET /_dash-component-suites/dash/dcc/async-graph.js HTTP/1.1\" 200 -\n",
      "127.0.0.1 - - [18/Nov/2022 21:57:52] \"GET /_dash-component-suites/dash/dcc/async-plotlyjs.js HTTP/1.1\" 200 -\n"
     ]
    }
   ],
   "source": [
    "app=dash.Dash()\n",
    "colors =dict(\n",
    "    background ='#111111',\n",
    "    text='#7FDBFF'\n",
    ")\n",
    "\n",
    "app.layout = dhc.Div(children=[\n",
    "    dhc.H1(\n",
    "        children='Hello Dash',\n",
    "        style=dict(\n",
    "            textAlign= 'center',\n",
    "            color= colors['text'])\n",
    "        ),\n",
    "\n",
    "    dhc.Div(\n",
    "        children='Dash: A web application framework for Python.',\n",
    "        style=dict(\n",
    "            textAlign= 'center',\n",
    "            color=colors['text'])\n",
    "            ),\n",
    "\n",
    "    dcc.Graph(\n",
    "        id='example-graph',\n",
    "        figure=dict(\n",
    "                    data= [dict(x= [1, 2, 3], y= [4, 1, 2], type= 'bar', name= 'SF'),\n",
    "                    dict(x= [1, 2, 3], y= [2, 4, 5], type= 'bar', name= u'Montréal')],\n",
    "                    layout= dict(plot_bgcolor= colors['background'],paper_bgcolor= colors['background'],\n",
    "                            font= dict(color= colors['text']),\n",
    "                            title= 'Dash Data Visualization',xaxis=dict(title='Rand. no'))\n",
    "                    )\n",
    "            )\n",
    "],\n",
    "    style=dict(backgroundColor= colors['background'])\n",
    ")\n",
    "\n",
    "if __name__ == '__main__':\n",
    "    app.run_server()\n"
   ]
  },
  {
   "cell_type": "code",
   "execution_count": null,
   "id": "aa0aff15",
   "metadata": {},
   "outputs": [],
   "source": [
    "app=dash.Dash()\n",
    "np.random.seed(42)\n",
    "rand_x=np.random.randint(1,101,100)\n",
    "rand_y=np.random.randint(1,101,100)\n",
    "app.layout=dhc.Div([dcc.Graph(id='Scatterplot',\n",
    "                             figure=dict(data=[pgo.Scatter(x=rand_x,y=rand_y,mode='markers',marker=dict(size=12,symbol='pentagon'))],\n",
    "                                        layout=pgo.Layout(title='My dash app plot',xaxis=dict(title='x axis'),yaxis=dict(title='y axis'))\n",
    "                                        )\n",
    "                             )\n",
    "                   ])\n",
    "\n",
    "if __name__ == '__main__':\n",
    "    app.run_server()"
   ]
  },
  {
   "cell_type": "code",
   "execution_count": null,
   "id": "1e28d7bf",
   "metadata": {},
   "outputs": [],
   "source": []
  }
 ],
 "metadata": {
  "kernelspec": {
   "display_name": "Python 3 (ipykernel)",
   "language": "python",
   "name": "python3"
  },
  "language_info": {
   "codemirror_mode": {
    "name": "ipython",
    "version": 3
   },
   "file_extension": ".py",
   "mimetype": "text/x-python",
   "name": "python",
   "nbconvert_exporter": "python",
   "pygments_lexer": "ipython3",
   "version": "3.9.12"
  }
 },
 "nbformat": 4,
 "nbformat_minor": 5
}
